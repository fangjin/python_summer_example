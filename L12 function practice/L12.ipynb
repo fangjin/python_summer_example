{
 "cells": [
  {
   "cell_type": "markdown",
   "source": [
    "simple function"
   ],
   "metadata": {
    "collapsed": false,
    "pycharm": {
     "name": "#%% md\n"
    }
   }
  },
  {
   "cell_type": "code",
   "execution_count": null,
   "metadata": {
    "collapsed": true,
    "pycharm": {
     "name": "#%%\n",
     "is_executing": true
    }
   },
   "outputs": [],
   "source": [
    "def function_name_1(parameter1):\n",
    "\n",
    "    print(parameter1)\n",
    "\n",
    "\n",
    "function_name_1(\"this is a parameter we supplied\")\n"
   ]
  },
  {
   "cell_type": "markdown",
   "source": [
    "function with if else"
   ],
   "metadata": {
    "collapsed": false,
    "pycharm": {
     "name": "#%% md\n"
    }
   }
  },
  {
   "cell_type": "code",
   "execution_count": null,
   "outputs": [],
   "source": [
    "def function_name_2(parameter1):\n",
    "\n",
    "    if parameter1 != 0:\n",
    "        print(parameter1)\n",
    "    else:\n",
    "        print(1 + 2)\n",
    "\n",
    "\n",
    "function_name_2(\"this is a parameter we supplied\")"
   ],
   "metadata": {
    "collapsed": false,
    "pycharm": {
     "name": "#%%\n",
     "is_executing": true
    }
   }
  },
  {
   "cell_type": "markdown",
   "source": [
    "function with for loop"
   ],
   "metadata": {
    "collapsed": false,
    "pycharm": {
     "name": "#%% md\n"
    }
   }
  },
  {
   "cell_type": "code",
   "execution_count": null,
   "outputs": [],
   "source": [
    "def function_name_3(parameter1):\n",
    "\n",
    "    for item in parameter1:\n",
    "        print(item)\n",
    "\n",
    "\n",
    "function_name_3([8, \"324\", 9])\n"
   ],
   "metadata": {
    "collapsed": false,
    "pycharm": {
     "name": "#%%\n",
     "is_executing": true
    }
   }
  },
  {
   "cell_type": "markdown",
   "source": [
    "function with for loop and if else"
   ],
   "metadata": {
    "collapsed": false,
    "pycharm": {
     "name": "#%% md\n"
    }
   }
  },
  {
   "cell_type": "code",
   "execution_count": null,
   "outputs": [],
   "source": [
    "def function_name_4(parameter1):\n",
    "\n",
    "    for item in parameter1:\n",
    "\n",
    "        if item != 8:\n",
    "            print(item)\n",
    "\n",
    "        else:\n",
    "            print(\"apple\")\n",
    "\n",
    "\n",
    "function_name_4([8, \"324\", 9])"
   ],
   "metadata": {
    "collapsed": false,
    "pycharm": {
     "name": "#%%\n",
     "is_executing": true
    }
   }
  },
  {
   "cell_type": "markdown",
   "source": [
    "random number generator in a function"
   ],
   "metadata": {
    "collapsed": false,
    "pycharm": {
     "name": "#%% md\n"
    }
   }
  },
  {
   "cell_type": "code",
   "execution_count": 4,
   "outputs": [],
   "source": [
    "import random\n",
    "\n",
    "\n",
    "def function_name_5(parameter1, parameter2):\n",
    "\n",
    "    random_number = random.randint(parameter1, parameter2)\n",
    "\n",
    "    print(random_number)\n",
    "\n",
    "\n",
    "function_name_5()"
   ],
   "metadata": {
    "collapsed": false,
    "pycharm": {
     "name": "#%%\n"
    }
   }
  },
  {
   "cell_type": "code",
   "execution_count": 4,
   "outputs": [],
   "source": [],
   "metadata": {
    "collapsed": false,
    "pycharm": {
     "name": "#%%\n"
    }
   }
  },
  {
   "cell_type": "code",
   "execution_count": 4,
   "outputs": [],
   "source": [],
   "metadata": {
    "collapsed": false,
    "pycharm": {
     "name": "#%%\n"
    }
   }
  }
 ],
 "metadata": {
  "kernelspec": {
   "display_name": "Python 3",
   "language": "python",
   "name": "python3"
  },
  "language_info": {
   "codemirror_mode": {
    "name": "ipython",
    "version": 2
   },
   "file_extension": ".py",
   "mimetype": "text/x-python",
   "name": "python",
   "nbconvert_exporter": "python",
   "pygments_lexer": "ipython2",
   "version": "2.7.6"
  }
 },
 "nbformat": 4,
 "nbformat_minor": 0
}