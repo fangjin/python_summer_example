{
 "cells": [
  {
   "cell_type": "markdown",
   "metadata": {
    "id": "eJiZS8wbHQ6_",
    "pycharm": {
     "name": "#%% md\n"
    }
   },
   "source": [
    "Ex 1. try out `print()` yourself!"
   ]
  },
  {
   "cell_type": "code",
   "execution_count": null,
   "metadata": {
    "id": "dY-pxoF-HQTj",
    "pycharm": {
     "name": "#%%\n"
    }
   },
   "outputs": [],
   "source": []
  },
  {
   "cell_type": "markdown",
   "metadata": {
    "id": "iWnN3IkiGbpi",
    "pycharm": {
     "name": "#%% md\n"
    }
   },
   "source": [
    "Ex 2. try importing one of the following modules:  \n",
    "\n",
    "1. *random*\n",
    "\n",
    "2. *pandas*\n",
    "\n",
    "3. *numpy*"
   ]
  },
  {
   "cell_type": "code",
   "execution_count": null,
   "metadata": {
    "id": "0_URwEoXSh_S",
    "pycharm": {
     "name": "#%%\n"
    }
   },
   "outputs": [],
   "source": []
  },
  {
   "cell_type": "markdown",
   "metadata": {
    "id": "_KVG5-GiSQhO",
    "pycharm": {
     "name": "#%% md\n"
    }
   },
   "source": [
    "EX 3. **rock paper scissors game**\n",
    "\n",
    "run the code block below and try it out!"
   ]
  },
  {
   "cell_type": "code",
   "execution_count": null,
   "metadata": {
    "id": "BfJFzVuhGbpj",
    "pycharm": {
     "name": "#%%\n"
    }
   },
   "outputs": [],
   "source": [
    "#!/usr/bin/env python\n",
    "# coding: utf-8\n",
    "\n",
    "# In[ ]:\n",
    "\n",
    "\n",
    "#Initialize variables\n",
    "options = ['rock', 'paper', 'scissors']\n",
    "player_score = 0\n",
    "computer_score = 0\n",
    "\n",
    "#Ask player if they are ready to play before starting\n",
    "def start():\n",
    "    ready = input('Ready to play? (yes / no); ').lower()\n",
    "    if ready == 'yes':\n",
    "        random_move(player_score, computer_score)\n",
    "    elif ready == 'no':\n",
    "        print(':(')\n",
    "    else:\n",
    "        print('Invalid selection. Please try again!')\n",
    "        start()\n",
    "\n",
    "#Generate random move for the computer\n",
    "import random\n",
    "def random_move(player_score, computer_score):\n",
    "    computer_move = random.choice(options)\n",
    "    valid(computer_move, player_score, computer_score)\n",
    "    \n",
    "#Check if player's move is valid choice r, p, or s\n",
    "def valid(computer_move, player_score, computer_score):\n",
    "    player_move = input('Make a move (rock / paper / scissors):').lower()\n",
    "#If the player's move is valid, reveal the move of the computer\n",
    "    if player_move in options:\n",
    "        if computer_move == 'rock':\n",
    "            print ('Computer chose ROCK!')\n",
    "        elif computer_move == 'paper':\n",
    "            print ('Computer chose PAPER!')\n",
    "        elif computer_move == 'scissors':\n",
    "            print ('Computer chose SCISSORS!')\n",
    "        result(player_move, computer_move, player_score, computer_score)\n",
    "    else:\n",
    "        print(\"Invalid Selection. Please Try again.\")\n",
    "        valid(computer_move, player_score, computer_score)\n",
    "\n",
    "#Recall function until move is valid\n",
    "\n",
    "#Determine winner of round and adjust the scores\n",
    "def result(player_move, computer_move, player_score, computer_score):\n",
    "    if player_move == computer_move:      #Tie\n",
    "        print('Tie!')\n",
    "    elif player_move == 'rock':           #Player Rock\n",
    "        if computer_move == 'paper':\n",
    "            print('Haha you lose!')\n",
    "            computer_score += 1\n",
    "        else:\n",
    "            print('You won!')\n",
    "            player_score += 1\n",
    "    elif player_move == 'paper':          #Player paper\n",
    "        if computer_move == 'rock':\n",
    "            print('You won!')\n",
    "            player_score += 1\n",
    "        else:\n",
    "            print('Haha you lose!')\n",
    "            computer_score += 1\n",
    "    elif player_move == 'scissors':        #Player scissors\n",
    "        if computer_move == 'rock':\n",
    "            print('Haha you lose!')\n",
    "            computer_score += 1\n",
    "        else:\n",
    "            print('You won!')\n",
    "            player_score += 1\n",
    "    score(player_score, computer_score)   #Return scores to score function\n",
    "    \n",
    "#Print scores after each round\n",
    "def score(player_score, computer_score):\n",
    "    print(\"Player:\", player_score, '| Computer:', computer_score)\n",
    "    play_again(player_score, computer_score)\n",
    "    \n",
    "#Ask player to play again or end the game\n",
    "def play_again(player_score, computer_score):\n",
    "    again = input('Do you want to Play Again? (yes / no): ').lower()\n",
    "    if again == 'yes':\n",
    "        random_move(player_score, computer_score) #Send scores back to random function and repeat for next round\n",
    "    elif again == 'no':\n",
    "        print('Thanks for Playing! \\nFinal Score: \\nPlayer:', player_score, '| Computer:', computer_score)\n",
    "    else:\n",
    "        print('Invalid selection. Please try again.')\n",
    "        play_again(player_score, computer_score) #Recall function until valid selection is made\n",
    "\n",
    "def main():\n",
    "    print('Welcome to Rock, Paper, Scissors!')\n",
    "    start()\n",
    "    \n",
    "#Start the game\n",
    "if __name__ == \"__main__\":\n",
    "    main()\n",
    "    \n",
    "\n"
   ]
  },
  {
   "cell_type": "markdown",
   "metadata": {
    "id": "eXcR8GgTQtX5",
    "pycharm": {
     "name": "#%% md\n"
    }
   },
   "source": [
    "## Flag example\n",
    "[Click me to draw the flag](https://replit.com/@HydroFriend/turtle-flag?v=1)"
   ]
  },
  {
   "cell_type": "markdown",
   "metadata": {
    "id": "SU61r8iDZydo",
    "pycharm": {
     "name": "#%% md\n"
    }
   },
   "source": [
    "Ex 4. create your own python variable and give it a value you want"
   ]
  },
  {
   "cell_type": "code",
   "execution_count": null,
   "metadata": {
    "id": "zopo4kLpZyxE",
    "pycharm": {
     "name": "#%%\n"
    }
   },
   "outputs": [],
   "source": []
  },
  {
   "cell_type": "markdown",
   "metadata": {
    "id": "zNt7hnDZWxmh",
    "pycharm": {
     "name": "#%% md\n"
    }
   },
   "source": [
    "**Star Pattern Solutions**\n"
   ]
  },
  {
   "cell_type": "markdown",
   "metadata": {
    "id": "TRI7_DzNW6-k",
    "pycharm": {
     "name": "#%% md\n"
    }
   },
   "source": [
    "Sqaure Pattern  \n",
    "\n",
    "\\*\\*\\*\\*\\*\\*\\*  \n",
    "\\*\\*\\*\\*\\*\\*\\*  \n",
    "\\*\\*\\*\\*\\*\\*\\*  \n",
    "\\*\\*\\*\\*\\*\\*\\*  \n",
    "\\*\\*\\*\\*\\*\\*\\*  \n"
   ]
  },
  {
   "cell_type": "code",
   "execution_count": null,
   "metadata": {
    "id": "S-_uopa2W89k",
    "pycharm": {
     "name": "#%%\n"
    }
   },
   "outputs": [],
   "source": [
    "# Square pattern program\n",
    "\n",
    "for i in range(0, 5):\n",
    "    # printing * for 5 times and a new line\n",
    "    print(\"*\" * 5)"
   ]
  },
  {
   "cell_type": "markdown",
   "metadata": {
    "id": "RSiu6cQfXcrB",
    "pycharm": {
     "name": "#%% md\n"
    }
   },
   "source": [
    "Hollow Square Pattern  \n",
    "\n",
    "\\*\\*\\*\\*\\*  \n",
    "\\* &nbsp;&nbsp;&nbsp;  \\*  \n",
    "\\* &nbsp;&nbsp;&nbsp;  \\*  \n",
    "\\* &nbsp;&nbsp;&nbsp;  \\*  \n",
    "\\*\\*\\*\\*\\*  \n"
   ]
  },
  {
   "cell_type": "code",
   "execution_count": null,
   "metadata": {
    "id": "IZ2SH91mXnYR",
    "pycharm": {
     "name": "#%%\n"
    }
   },
   "outputs": [],
   "source": [
    "# hollow square pattern\n",
    "size = 5\n",
    "for i in range(size):\n",
    "    # print star in first and last row\n",
    "    if i == 0 or i == size - 1:\n",
    "        print('*' * size)\n",
    "    else:\n",
    "        # print * in first and last position in other rows\n",
    "        print('*' + ' ' * (size - 2) + '*')"
   ]
  },
  {
   "cell_type": "markdown",
   "metadata": {
    "id": "kea1XjmZX3ax",
    "pycharm": {
     "name": "#%% md\n"
    }
   },
   "source": [
    "Left Triangle Star Pattern\n",
    "\n",
    "\\*   \n",
    "\\*\\*  \n",
    "\\*\\*\\*  \n",
    "\\*\\*\\*\\*  \n",
    "\\*\\*\\*\\*\\*  "
   ]
  },
  {
   "cell_type": "code",
   "execution_count": null,
   "metadata": {
    "id": "JFBm9EJDYGr_",
    "pycharm": {
     "name": "#%%\n"
    }
   },
   "outputs": [],
   "source": [
    "# Left triangle star pattern\n",
    "n = 5\n",
    "\n",
    "for i in range(1, n+1):\n",
    "    print(\"*\" * i)"
   ]
  },
  {
   "cell_type": "markdown",
   "metadata": {
    "id": "gjSkPud4YMei",
    "pycharm": {
     "name": "#%% md\n"
    }
   },
   "source": [
    "Diamond Star Pattern\n",
    "\n",
    "&nbsp;&nbsp;&nbsp;&nbsp;&nbsp;    \\*  \n",
    "&nbsp;&nbsp;&nbsp;   \\*\\*\\*  \n",
    "&nbsp;&nbsp;  \\*\\*\\*\\*\\*  \n",
    "&nbsp; \\*\\*\\*\\*\\*\\*\\*  \n",
    "\\*\\*\\*\\*\\*\\*\\*\\*\\*  \n",
    "&nbsp; \\*\\*\\*\\*\\*\\*\\*  \n",
    "&nbsp;&nbsp;  \\*\\*\\*\\*\\*  \n",
    "&nbsp;&nbsp;&nbsp;  \\*\\*\\*  \n",
    "&nbsp;&nbsp;&nbsp;&nbsp;&nbsp;   \\*  "
   ]
  },
  {
   "cell_type": "code",
   "execution_count": null,
   "metadata": {
    "id": "a7VSGbNLYoRT",
    "pycharm": {
     "name": "#%%\n"
    }
   },
   "outputs": [],
   "source": [
    "# diamond star pattern\n",
    "n = 5\n",
    "\n",
    "# upward pyramid\n",
    "for i in range(n):\n",
    "    for j in range(n - i - 1):\n",
    "        print(' ', end='')\n",
    "    for j in range(2 * i + 1):\n",
    "        print('*', end='')\n",
    "    print()\n",
    "\n",
    "# downward pyramid\n",
    "for i in range(n - 1):\n",
    "    for j in range(i + 1):\n",
    "        print(' ', end='')\n",
    "    for j in range(2*(n - i - 1) - 1):\n",
    "        print('*', end='')\n",
    "    print()"
   ]
  },
  {
   "cell_type": "markdown",
   "metadata": {
    "id": "IjbrNdBbZCwL",
    "pycharm": {
     "name": "#%% md\n"
    }
   },
   "source": [
    "Hourglass Star Pattern  \n",
    "\\*\\*\\*\\*\\*\\*\\*\\*\\*  \n",
    "&nbsp; \\*\\*\\*\\*\\*\\*\\*  \n",
    " &nbsp;&nbsp; \\*\\*\\*\\*\\*  \n",
    "  &nbsp;&nbsp;&nbsp; \\*\\*\\*  \n",
    "  &nbsp;&nbsp;&nbsp;&nbsp;&nbsp;  \\*  \n",
    " &nbsp;&nbsp;&nbsp;  \\*\\*\\*  \n",
    "&nbsp;&nbsp;  \\*\\*\\*\\*\\*  \n",
    "&nbsp; \\*\\*\\*\\*\\*\\*\\*  \n",
    "\\*\\*\\*\\*\\*\\*\\*\\*\\*  "
   ]
  },
  {
   "cell_type": "code",
   "execution_count": null,
   "metadata": {
    "id": "CsS_XkBMZMGF",
    "pycharm": {
     "name": "#%%\n"
    }
   },
   "outputs": [],
   "source": [
    "# hourglass star pattern\n",
    "n = 5\n",
    "\n",
    "# downward pyramid\n",
    "for i in range(n-1):\n",
    "    for j in range(i):\n",
    "        print(' ', end='')\n",
    "    for k in range(2*(n-i)-1):\n",
    "        print('*', end='')\n",
    "    print()\n",
    "# upward pyramid\n",
    "for i in range(n):\n",
    "    for j in range(n-i-1):\n",
    "        print(' ', end='')\n",
    "    for k in range(2*i+1):\n",
    "        print('*', end='')\n",
    "    print()"
   ]
  }
 ],
 "metadata": {
  "colab": {
   "collapsed_sections": [],
   "name": "L1 Ex.ipynb",
   "provenance": []
  },
  "gpuClass": "standard",
  "kernelspec": {
   "display_name": "Python 3",
   "name": "python3"
  },
  "language_info": {
   "name": "python"
  },
  "orig_nbformat": 4
 },
 "nbformat": 4,
 "nbformat_minor": 0
}