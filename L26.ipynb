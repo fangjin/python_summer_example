{
  "cells": [
    {
      "cell_type": "code",
      "source": [
        "class human:\n",
        "  number_eyes = 2\n",
        "  legs = 2\n",
        "  hair = True\n",
        "  arms = 2\n",
        "  head = 1\n",
        "  ears = 2"
      ],
      "metadata": {
        "id": "jQUxE92J5Lsl"
      },
      "execution_count": 2,
      "outputs": []
    },
    {
      "cell_type": "code",
      "source": [
        "amy = human()\n",
        "amy.legs"
      ],
      "metadata": {
        "id": "IOJ1o_qS5MMB",
        "outputId": "b40c36f1-8807-4704-db6e-1539f57ee5ec",
        "colab": {
          "base_uri": "https://localhost:8080/"
        }
      },
      "execution_count": 5,
      "outputs": [
        {
          "output_type": "execute_result",
          "data": {
            "text/plain": [
              "2"
            ]
          },
          "metadata": {},
          "execution_count": 5
        }
      ]
    },
    {
      "cell_type": "code",
      "source": [
        "amy.head"
      ],
      "metadata": {
        "id": "-GGEcvL95MWP",
        "outputId": "4f9ca64e-64e2-438e-ebd1-c8f6f3b96b84",
        "colab": {
          "base_uri": "https://localhost:8080/"
        }
      },
      "execution_count": 4,
      "outputs": [
        {
          "output_type": "execute_result",
          "data": {
            "text/plain": [
              "1"
            ]
          },
          "metadata": {},
          "execution_count": 4
        }
      ]
    },
    {
      "cell_type": "code",
      "source": [
        "class Car:\n",
        "\n",
        "    class_attribute_1_number_of_wheels = 4\n",
        "    class_attribute_2_has_doors = True\n",
        "    class_attribute_3_can_move = True"
      ],
      "metadata": {
        "id": "zgLhS4No5MgE"
      },
      "execution_count": 6,
      "outputs": []
    },
    {
      "cell_type": "code",
      "source": [
        "car_instance_2_ford_truck = Car()\n",
        "car_instance_3_mercedes = Car()\n"
      ],
      "metadata": {
        "id": "uBku_HQ85bAH"
      },
      "execution_count": 7,
      "outputs": []
    },
    {
      "cell_type": "code",
      "source": [
        "car_instance_2_ford_truck.class_attribute_1_number_of_wheels"
      ],
      "metadata": {
        "id": "u1vcOAK-5exT",
        "outputId": "670698b0-dbcd-4a96-8e22-989d9ef4bbec",
        "colab": {
          "base_uri": "https://localhost:8080/"
        }
      },
      "execution_count": 8,
      "outputs": [
        {
          "output_type": "execute_result",
          "data": {
            "text/plain": [
              "4"
            ]
          },
          "metadata": {},
          "execution_count": 8
        }
      ]
    },
    {
      "cell_type": "code",
      "source": [
        "car_instance_3_mercedes.class_attribute_1_number_of_wheels"
      ],
      "metadata": {
        "id": "uOOd6ERJ5hif",
        "outputId": "638e957f-d651-4229-f72f-20f39e33ecf3",
        "colab": {
          "base_uri": "https://localhost:8080/"
        }
      },
      "execution_count": 9,
      "outputs": [
        {
          "output_type": "execute_result",
          "data": {
            "text/plain": [
              "4"
            ]
          },
          "metadata": {},
          "execution_count": 9
        }
      ]
    },
    {
      "cell_type": "markdown",
      "source": [
        "The following we are going to introduce constructor"
      ],
      "metadata": {
        "id": "gMbWuuBl5mYy"
      }
    },
    {
      "cell_type": "code",
      "source": [
        "class Car:\n",
        "    \n",
        "    def __init__(self):\n",
        "        pass"
      ],
      "metadata": {
        "id": "3RPCP8zr49AJ"
      },
      "execution_count": null,
      "outputs": []
    },
    {
      "cell_type": "code",
      "execution_count": null,
      "metadata": {
        "id": "VSy2iaZJ4ZuS"
      },
      "outputs": [],
      "source": [
        "class Car:\n",
        "\n",
        "    def __init__(self, color, top_speed):\n",
        "        self.color = color\n",
        "        self.top_speed = top_speed\n",
        "        "
      ]
    },
    {
      "cell_type": "code",
      "execution_count": null,
      "metadata": {
        "id": "YMViCHZG4ZuS",
        "outputId": "a08dc4e1-cc70-4ef9-e82a-0b8d227bc901"
      },
      "outputs": [
        {
          "data": {
            "text/plain": [
              "'red'"
            ]
          },
          "execution_count": 17,
          "metadata": {},
          "output_type": "execute_result"
        }
      ],
      "source": [
        "car_instance_1 = Car('red', 100)\n",
        "car_instance_1.color"
      ]
    },
    {
      "cell_type": "code",
      "execution_count": 10,
      "metadata": {
        "id": "b70q-jMe4ZuT"
      },
      "outputs": [],
      "source": [
        "class Car:\n",
        "\n",
        "    class_attribute_1_number_of_wheels = 4\n",
        "    class_attribute_2_has_doors = True\n",
        "    class_attribute_3_can_move = True\n",
        "\n",
        "\n",
        "    def __init__(self, color, brand, model, year, price):\n",
        "        self.instance_attribute_color = color\n",
        "        self.instance_attribute_brand = brand\n",
        "        self.instance_attribute_model = model\n",
        "        self.instance_attribute_year = year\n",
        "        self.instance_attribute_price = price\n"
      ]
    },
    {
      "cell_type": "code",
      "execution_count": 11,
      "metadata": {
        "id": "Ci4B4WKs4ZuU"
      },
      "outputs": [],
      "source": [
        "truck = Car(color=\"blue\", brand=\"Ford\", model=\"F-150\", year=2018, price=10000)"
      ]
    },
    {
      "cell_type": "code",
      "execution_count": 12,
      "metadata": {
        "id": "ImRey3QX4ZuU",
        "outputId": "58d179d9-68ab-4246-f71e-519d36a56953",
        "colab": {
          "base_uri": "https://localhost:8080/",
          "height": 36
        }
      },
      "outputs": [
        {
          "output_type": "execute_result",
          "data": {
            "text/plain": [
              "'blue'"
            ],
            "application/vnd.google.colaboratory.intrinsic+json": {
              "type": "string"
            }
          },
          "metadata": {},
          "execution_count": 12
        }
      ],
      "source": [
        "truck.instance_attribute_color"
      ]
    },
    {
      "cell_type": "code",
      "execution_count": 13,
      "metadata": {
        "id": "7os0UcCC4ZuV"
      },
      "outputs": [],
      "source": [
        "mercedes = Car(color=\"black\", brand=\"Mercedes\", model=\"C-Class\", year=2020, price=5)\n",
        "ford_truck = Car(color=\"red\", brand=\"Ford\", model=\"F-150\", year=2019, price=2)\n",
        "toyota = Car(color=\"white\", brand=\"Toyota\", model=\"Corolla\", year=2011, price=3)\n",
        "tank = Car(color=\"green\", brand=\"military\", model=\"M1A2\", year=2015, price=500)"
      ]
    },
    {
      "cell_type": "code",
      "execution_count": 14,
      "metadata": {
        "id": "Czr_NxCg4ZuV",
        "outputId": "737ff195-6b78-4a96-fad4-dcad6426572a",
        "colab": {
          "base_uri": "https://localhost:8080/"
        }
      },
      "outputs": [
        {
          "output_type": "stream",
          "name": "stdout",
          "text": [
            "5\n",
            "2\n",
            "3\n",
            "500\n"
          ]
        }
      ],
      "source": [
        "print(mercedes.instance_attribute_price)\n",
        "print(ford_truck.instance_attribute_price)\n",
        "print(toyota.instance_attribute_price)\n",
        "print(tank.instance_attribute_price)"
      ]
    },
    {
      "cell_type": "code",
      "execution_count": 15,
      "metadata": {
        "id": "nEkkEy9y4ZuW",
        "outputId": "b93d14e9-5853-45d4-e6ae-592d5eeb770a",
        "colab": {
          "base_uri": "https://localhost:8080/"
        }
      },
      "outputs": [
        {
          "output_type": "stream",
          "name": "stdout",
          "text": [
            "True\n",
            "True\n",
            "True\n",
            "True\n"
          ]
        }
      ],
      "source": [
        "print(mercedes.class_attribute_2_has_doors)\n",
        "print(ford_truck.class_attribute_2_has_doors)\n",
        "print(toyota.class_attribute_2_has_doors)\n",
        "print(tank.class_attribute_2_has_doors)"
      ]
    },
    {
      "cell_type": "code",
      "execution_count": 16,
      "metadata": {
        "id": "6JRNDmZh4ZuX",
        "outputId": "8d1ec526-ff0a-4ff7-af69-8cab4bf2d659",
        "colab": {
          "base_uri": "https://localhost:8080/"
        }
      },
      "outputs": [
        {
          "output_type": "stream",
          "name": "stdout",
          "text": [
            "4\n",
            "4\n",
            "4\n",
            "4\n"
          ]
        }
      ],
      "source": [
        "print(mercedes.class_attribute_1_number_of_wheels)\n",
        "print(ford_truck.class_attribute_1_number_of_wheels)\n",
        "print(toyota.class_attribute_1_number_of_wheels)\n",
        "print(tank.class_attribute_1_number_of_wheels)"
      ]
    }
  ],
  "metadata": {
    "kernelspec": {
      "display_name": "Python 3.9.12 ('base')",
      "language": "python",
      "name": "python3"
    },
    "language_info": {
      "codemirror_mode": {
        "name": "ipython",
        "version": 3
      },
      "file_extension": ".py",
      "mimetype": "text/x-python",
      "name": "python",
      "nbconvert_exporter": "python",
      "pygments_lexer": "ipython3",
      "version": "3.9.12"
    },
    "orig_nbformat": 4,
    "vscode": {
      "interpreter": {
        "hash": "a6efb1b5c0b24a2e2c6a7775ceb8b8e57e283a2a8ce9c098a6d10d53a2042136"
      }
    },
    "colab": {
      "name": "L26.ipynb",
      "provenance": []
    }
  },
  "nbformat": 4,
  "nbformat_minor": 0
}