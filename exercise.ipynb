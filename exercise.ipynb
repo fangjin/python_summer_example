{
 "cells": [
  {
   "cell_type": "markdown",
   "metadata": {},
   "source": [
    "***Determining if a list Is Empty***  \n",
    "\n",
    "Can use a list as a condition to determine if it’s empty—`non-empty is True` and `empty is False`"
   ]
  },
  {
   "cell_type": "code",
   "execution_count": null,
   "metadata": {},
   "outputs": [],
   "source": [
    "list1 = "
   ]
  },
  {
   "cell_type": "code",
   "execution_count": null,
   "metadata": {},
   "outputs": [],
   "source": [
    "if list1:\n",
    "    print(\"not empty\")\n",
    "else:\n",
    "    print(\"empty\")"
   ]
  },
  {
   "cell_type": "code",
   "execution_count": null,
   "metadata": {},
   "outputs": [],
   "source": [
    "list1.clear()"
   ]
  },
  {
   "cell_type": "code",
   "execution_count": null,
   "metadata": {},
   "outputs": [],
   "source": [
    "if list1:\n",
    "    print(\"not empty\")\n",
    "else:\n",
    "    print(\"empty\")"
   ]
  },
  {
   "cell_type": "markdown",
   "metadata": {},
   "source": [
    "***Determining if a Dictionary Is Empty***  \n",
    "\n",
    "Can use a dictionary as a condition to determine if it’s empty—`non-empty is True` and `empty is False`"
   ]
  },
  {
   "cell_type": "code",
   "execution_count": null,
   "metadata": {},
   "outputs": [],
   "source": [
    "dct = {\"one\" : 1, \"two\" : 2}"
   ]
  },
  {
   "cell_type": "code",
   "execution_count": null,
   "metadata": {},
   "outputs": [],
   "source": [
    "if dct:\n",
    "    print(\"not empty\")\n",
    "else:\n",
    "    print(\"empty\")"
   ]
  },
  {
   "cell_type": "code",
   "execution_count": null,
   "metadata": {},
   "outputs": [],
   "source": [
    "dct.clear()"
   ]
  },
  {
   "cell_type": "code",
   "execution_count": null,
   "metadata": {},
   "outputs": [],
   "source": [
    "if dct:\n",
    "    print(\"not empty\")\n",
    "else:\n",
    "    print(\"empty\")"
   ]
  },
  {
   "cell_type": "markdown",
   "metadata": {},
   "source": [
    "we can also use arithmetic/logic operators with `if-else` statement as the condition"
   ]
  },
  {
   "cell_type": "code",
   "execution_count": null,
   "metadata": {},
   "outputs": [],
   "source": [
    "if 1 == 1:\n",
    "    print(\"one is indeed equal to one\")\n",
    "else:\n",
    "    print(\"wait what? one is not equal to itself? what is this madness???\")"
   ]
  },
  {
   "cell_type": "markdown",
   "metadata": {},
   "source": [
    "write your own if else statement with arithmetic/logic operators"
   ]
  },
  {
   "cell_type": "code",
   "execution_count": null,
   "metadata": {},
   "outputs": [],
   "source": []
  },
  {
   "cell_type": "markdown",
   "metadata": {},
   "source": [
    "example with `if-elif-else` statement"
   ]
  },
  {
   "cell_type": "code",
   "execution_count": null,
   "metadata": {},
   "outputs": [],
   "source": [
    "grade = 65\n",
    "\n",
    "if grade > 60:\n",
    "    print(\"yay! I pass!\")\n",
    "elif grade == 60:\n",
    "    print(\"that was close but I somehow managed to pass the exam\")\n",
    "else:\n",
    "    print(\"see you next year professor\")\n"
   ]
  },
  {
   "cell_type": "markdown",
   "metadata": {},
   "source": [
    "what would happen with the below code?"
   ]
  },
  {
   "cell_type": "code",
   "execution_count": null,
   "metadata": {},
   "outputs": [],
   "source": [
    "grade = 60\n",
    "\n",
    "if grade >= 60:\n",
    "    print(\"yay! I pass!\")\n",
    "elif grade == 60:\n",
    "    print(\"that was close but I somehow managed to pass the exam\")\n",
    "else:\n",
    "    print(\"see you next year professor\")"
   ]
  },
  {
   "cell_type": "markdown",
   "metadata": {},
   "source": [
    "a practice"
   ]
  },
  {
   "cell_type": "markdown",
   "metadata": {},
   "source": [
    "can you try to write a `if-elif-else` statement that prints out grades with respect to the grade inputs?\n",
    "\n",
    "1. \\>=100 \"impossible\"\n",
    "2. \\>=90 \"G for god tier\"\n",
    "3. \\>=80 \"E for excellent\"\n",
    "4. \\>=70 \"F for fantastic\"\n",
    "5. \\>=60 \"p for pass\"\n",
    "6.  <60 \"S for see you next semester\""
   ]
  },
  {
   "cell_type": "markdown",
   "metadata": {},
   "source": [
    "a challenge:  \n",
    "simple `if-elif-else` statement logic for `rock paper scissors`  "
   ]
  },
  {
   "cell_type": "code",
   "execution_count": null,
   "metadata": {},
   "outputs": [],
   "source": [
    "player_picks = \n",
    "\n",
    "computer_picks =\n",
    "\n",
    "if player_picks ==     and computer_picks ==    :\n",
    "    print(\"player wins\")\n",
    "\n",
    "elif player_picks ==     and computer_picks ==   :\n",
    "    print(\"player wins\")\n",
    "\n",
    "elif player_picks ==     and computer_picks ==   :\n",
    "    print(\"player wins\")\n",
    "\n",
    "elif player_picks ==     and computer_picks ==   :\n",
    "    print(\"computer wins\")\n",
    "\n",
    "elif player_picks ==     and computer_picks ==   :\n",
    "    print(\"computer wins\")\n",
    "\n",
    "elif player_picks ==     and computer_picks ==   :\n",
    "    print(\"computer wins\")\n",
    "\n",
    "else:\n",
    "    print(\"tie\")\n"
   ]
  }
 ],
 "metadata": {
  "kernelspec": {
   "display_name": "Python 3.9.12 ('base')",
   "language": "python",
   "name": "python3"
  },
  "language_info": {
   "codemirror_mode": {
    "name": "ipython",
    "version": 3
   },
   "file_extension": ".py",
   "mimetype": "text/x-python",
   "name": "python",
   "nbconvert_exporter": "python",
   "pygments_lexer": "ipython3",
   "version": "3.9.12"
  },
  "orig_nbformat": 4,
  "vscode": {
   "interpreter": {
    "hash": "f5b25e052352d0ab52b06d8a00db09f6214527cdbdbadfe2118ce5f5b02aba80"
   }
  }
 },
 "nbformat": 4,
 "nbformat_minor": 2
}
