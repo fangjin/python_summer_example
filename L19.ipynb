{
 "cells": [
  {
   "cell_type": "markdown",
   "metadata": {},
   "source": [
    "taking user input"
   ]
  },
  {
   "cell_type": "code",
   "execution_count": null,
   "metadata": {},
   "outputs": [],
   "source": [
    "things_we_type_in = input(\"add a message you want to print out before taking input\")\n",
    "print(things_we_type_in)"
   ]
  },
  {
   "cell_type": "markdown",
   "metadata": {},
   "source": [
    "input in function"
   ]
  },
  {
   "cell_type": "code",
   "execution_count": null,
   "metadata": {},
   "outputs": [],
   "source": [
    "def input_func():\n",
    "    "
   ]
  },
  {
   "cell_type": "markdown",
   "metadata": {},
   "source": [
    "guessing the number game"
   ]
  },
  {
   "cell_type": "code",
   "execution_count": null,
   "metadata": {},
   "outputs": [],
   "source": [
    "import random\n",
    "\n",
    "x = random.randint(1,9)\n",
    "guess = -1\n",
    "\n",
    "total_number_of_tries = 5\n",
    "\n",
    "print (\"Guess the number below:\", x + 1)\n",
    "for attemps in range(total_number_of_tries):\n",
    "    guess = int(input(\"Guess: \"))\n",
    "\n",
    "    if guess != x:\n",
    "        print(\"Wrong guess\")\n",
    "        print(total_number_of_tries - attemps - 1, \"tries remain\")\n",
    "        if attemps == total_number_of_tries - 1:\n",
    "            print(\"out of tries, the number is:\", x)\n",
    "    else:\n",
    "        print(\"Guessed correctly\")\n",
    "        print(\"the number is\", x)\n"
   ]
  },
  {
   "cell_type": "markdown",
   "metadata": {},
   "source": [
    "move code into function"
   ]
  },
  {
   "cell_type": "code",
   "execution_count": null,
   "metadata": {},
   "outputs": [],
   "source": [
    "def guess_the_number_game():\n",
    "    "
   ]
  },
  {
   "cell_type": "markdown",
   "metadata": {},
   "source": [
    "modify so we can have user input for a number generation range, and customize number of tries in total"
   ]
  }
 ],
 "metadata": {
  "kernelspec": {
   "display_name": "Python 3.9.12 ('base')",
   "language": "python",
   "name": "python3"
  },
  "language_info": {
   "codemirror_mode": {
    "name": "ipython",
    "version": 3
   },
   "file_extension": ".py",
   "mimetype": "text/x-python",
   "name": "python",
   "nbconvert_exporter": "python",
   "pygments_lexer": "ipython3",
   "version": "3.9.12"
  },
  "orig_nbformat": 4,
  "vscode": {
   "interpreter": {
    "hash": "a6efb1b5c0b24a2e2c6a7775ceb8b8e57e283a2a8ce9c098a6d10d53a2042136"
   }
  }
 },
 "nbformat": 4,
 "nbformat_minor": 2
}
