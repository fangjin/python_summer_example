{
 "cells": [
  {
   "cell_type": "code",
   "execution_count": 16,
   "outputs": [],
   "source": [
    "def function_with_for_loop_inside():\n",
    "\n",
    "    for number in [2, 4, 5]:\n",
    "        print(number)\n"
   ],
   "metadata": {
    "collapsed": false,
    "pycharm": {
     "name": "#%%\n"
    }
   }
  },
  {
   "cell_type": "code",
   "execution_count": 17,
   "outputs": [
    {
     "name": "stdout",
     "output_type": "stream",
     "text": [
      "2\n",
      "4\n",
      "5\n"
     ]
    }
   ],
   "source": [
    "function_with_for_loop_inside()"
   ],
   "metadata": {
    "collapsed": false,
    "pycharm": {
     "name": "#%%\n"
    }
   }
  },
  {
   "cell_type": "code",
   "execution_count": 19,
   "outputs": [
    {
     "name": "stdout",
     "output_type": "stream",
     "text": [
      "\n",
      " outer loop iteration  0 \n",
      "\n",
      "    inner loop iteration  a\n",
      "    inner loop iteration  b\n",
      "\n",
      " outer loop iteration  1 \n",
      "\n",
      "    inner loop iteration  a\n",
      "    inner loop iteration  b\n"
     ]
    }
   ],
   "source": [
    "outer_loop_list = [0, 1]\n",
    "inner_loop_list = [\"a\", \"b\"]\n",
    "\n",
    "\n",
    "for each_outer_iteration in outer_loop_list:\n",
    "    print(\"\\n outer loop iteration \", each_outer_iteration, \"\\n\")\n",
    "\n",
    "    for each_inner_iteration in inner_loop_list:\n",
    "        print(\"    inner loop iteration \", each_inner_iteration)"
   ],
   "metadata": {
    "collapsed": false,
    "pycharm": {
     "name": "#%%\n"
    }
   }
  },
  {
   "cell_type": "code",
   "execution_count": 20,
   "outputs": [],
   "source": [
    "def inner_loop():\n",
    "\n",
    "    inner_loop_list = [\"a\", \"b\"]\n",
    "    for each_inner_iteration in inner_loop_list:\n",
    "        print(\"    inner loop iteration \", each_inner_iteration)"
   ],
   "metadata": {
    "collapsed": false,
    "pycharm": {
     "name": "#%%\n"
    }
   }
  },
  {
   "cell_type": "code",
   "execution_count": 21,
   "outputs": [
    {
     "name": "stdout",
     "output_type": "stream",
     "text": [
      "\n",
      " outer loop iteration  0 \n",
      "\n",
      "    inner loop iteration  a\n",
      "    inner loop iteration  b\n",
      "\n",
      " outer loop iteration  1 \n",
      "\n",
      "    inner loop iteration  a\n",
      "    inner loop iteration  b\n"
     ]
    }
   ],
   "source": [
    "outer_loop_list = [0, 1]\n",
    "\n",
    "for each_outer_iteration in outer_loop_list:\n",
    "    print(\"\\n outer loop iteration \", each_outer_iteration, \"\\n\")\n",
    "    inner_loop()\n"
   ],
   "metadata": {
    "collapsed": false,
    "pycharm": {
     "name": "#%%\n"
    }
   }
  }
 ],
 "metadata": {
  "kernelspec": {
   "display_name": "Python 3",
   "language": "python",
   "name": "python3"
  },
  "language_info": {
   "codemirror_mode": {
    "name": "ipython",
    "version": 2
   },
   "file_extension": ".py",
   "mimetype": "text/x-python",
   "name": "python",
   "nbconvert_exporter": "python",
   "pygments_lexer": "ipython2",
   "version": "2.7.6"
  }
 },
 "nbformat": 4,
 "nbformat_minor": 0
}