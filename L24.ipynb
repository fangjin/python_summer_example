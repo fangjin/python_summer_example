{
 "cells": [
  {
   "cell_type": "markdown",
   "metadata": {},
   "source": [
    "loop logic"
   ]
  },
  {
   "cell_type": "code",
   "execution_count": null,
   "metadata": {},
   "outputs": [],
   "source": [
    "for i in range(3):\n",
    "    \n",
    "    print(\"before printing i\")\n",
    "    print(i)\n",
    "    print(\"after printing i\")\n",
    "\n"
   ]
  },
  {
   "cell_type": "code",
   "execution_count": null,
   "metadata": {},
   "outputs": [],
   "source": [
    "print(\"before printing i\")\n",
    "print(i)\n",
    "print(\"after printing i\")\n",
    "\n",
    "print(\"before printing i\")\n",
    "print(i)\n",
    "print(\"after printing i\")\n",
    "\n",
    "print(\"before printing i\")\n",
    "print(i)\n",
    "print(\"after printing i\")\n"
   ]
  },
  {
   "cell_type": "code",
   "execution_count": null,
   "metadata": {},
   "outputs": [],
   "source": [
    "print(\"before printing i\")\n",
    "print(\"before printing i\")\n",
    "print(\"before printing i\")\n",
    "\n",
    "print(i)\n",
    "print(i)\n",
    "print(i)\n",
    "\n",
    "print(\"after printing i\")\n",
    "print(\"after printing i\")\n",
    "print(\"after printing i\")"
   ]
  },
  {
   "cell_type": "code",
   "execution_count": null,
   "metadata": {},
   "outputs": [],
   "source": [
    "i = 0\n",
    "\n",
    "while i < 3:\n",
    "    print(\"before printing i\")\n",
    "    print(i)\n",
    "    print(\"after printing i\")\n",
    "    i = i + 1"
   ]
  },
  {
   "cell_type": "code",
   "execution_count": null,
   "metadata": {},
   "outputs": [],
   "source": [
    "i = 0\n",
    "\n",
    "print(\"before printing i\")\n",
    "print(i)\n",
    "print(\"after printing i\")\n",
    "i = i + 1\n",
    "\n",
    "print(\"before printing i\")\n",
    "print(i)\n",
    "print(\"after printing i\")\n",
    "i = i + 1\n",
    "\n",
    "print(\"before printing i\")\n",
    "print(i)\n",
    "print(\"after printing i\")\n",
    "i = i + 1"
   ]
  },
  {
   "cell_type": "code",
   "execution_count": null,
   "metadata": {},
   "outputs": [],
   "source": [
    "i = 0\n",
    "\n",
    "print(\"before printing i\")\n",
    "print(\"before printing i\")\n",
    "print(\"before printing i\")\n",
    "\n",
    "print(i)\n",
    "print(i)\n",
    "print(i)\n",
    "\n",
    "\n",
    "print(\"after printing i\")\n",
    "print(\"after printing i\")\n",
    "print(\"after printing i\")\n",
    "\n",
    "i = i + 1\n",
    "i = i + 1\n",
    "i = i + 1\n"
   ]
  },
  {
   "cell_type": "code",
   "execution_count": null,
   "metadata": {},
   "outputs": [],
   "source": [
    "def function1():\n",
    "\n",
    "    for i in range(3):\n",
    "        \n",
    "        print(\"before returning i\")\n",
    "        return i\n",
    "        print(\"after returning i\")"
   ]
  },
  {
   "cell_type": "code",
   "execution_count": null,
   "metadata": {},
   "outputs": [],
   "source": [
    "print(\"before printing i\")\n",
    "return i\n",
    "print(\"after printing i\")\n",
    "\n",
    "print(\"before printing i\")\n",
    "return i\n",
    "print(\"after printing i\")\n",
    "\n",
    "print(\"before printing i\")\n",
    "return i\n",
    "print(\"after printing i\")"
   ]
  },
  {
   "cell_type": "code",
   "execution_count": null,
   "metadata": {},
   "outputs": [],
   "source": [
    "print(\"before printing i\")\n",
    "print(\"before printing i\")\n",
    "print(\"before printing i\")\n",
    "\n",
    "return i\n",
    "return i\n",
    "return i\n",
    "\n",
    "print(\"after printing i\")\n",
    "print(\"after printing i\")\n",
    "print(\"after printing i\")"
   ]
  },
  {
   "cell_type": "code",
   "execution_count": null,
   "metadata": {},
   "outputs": [],
   "source": [
    "def function1():\n",
    "\n",
    "    i = 0\n",
    "\n",
    "    while i < 3:\n",
    "        print(\"before printing i\")\n",
    "        return i\n",
    "        print(\"after printing i\")\n",
    "        i = i + 1"
   ]
  },
  {
   "cell_type": "code",
   "execution_count": null,
   "metadata": {},
   "outputs": [],
   "source": [
    "i = 0\n",
    "\n",
    "print(\"before printing i\")\n",
    "return i\n",
    "print(\"after printing i\")\n",
    "i = i + 1\n",
    "\n",
    "print(\"before printing i\")\n",
    "return i\n",
    "print(\"after printing i\")\n",
    "i = i + 1\n",
    "\n",
    "print(\"before printing i\")\n",
    "return i\n",
    "print(\"after printing i\")\n",
    "i = i + 1"
   ]
  },
  {
   "cell_type": "code",
   "execution_count": null,
   "metadata": {},
   "outputs": [],
   "source": [
    "i = 0\n",
    "\n",
    "print(\"before printing i\")\n",
    "print(\"before printing i\")\n",
    "print(\"before printing i\")\n",
    "\n",
    "return i\n",
    "return i\n",
    "return i\n",
    "\n",
    "print(\"after printing i\")\n",
    "print(\"after printing i\")\n",
    "print(\"after printing i\")\n",
    "\n",
    "i = i + 1\n",
    "i = i + 1\n",
    "i = i + 1"
   ]
  },
  {
   "cell_type": "code",
   "execution_count": 1,
   "metadata": {},
   "outputs": [
    {
     "data": {
      "text/plain": [
       "3"
      ]
     },
     "execution_count": 1,
     "metadata": {},
     "output_type": "execute_result"
    }
   ],
   "source": [
    "def function1():\n",
    "    \n",
    "    return 3\n",
    "\n",
    "    for i in range(3):\n",
    "        \n",
    "        print(\"before returning i\")\n",
    "        return i\n",
    "        print(\"after returning i\")\n",
    "\n",
    "\n",
    "function1()"
   ]
  }
 ],
 "metadata": {
  "kernelspec": {
   "display_name": "Python 3.9.12 ('base')",
   "language": "python",
   "name": "python3"
  },
  "language_info": {
   "codemirror_mode": {
    "name": "ipython",
    "version": 3
   },
   "file_extension": ".py",
   "mimetype": "text/x-python",
   "name": "python",
   "nbconvert_exporter": "python",
   "pygments_lexer": "ipython3",
   "version": "3.9.12"
  },
  "orig_nbformat": 4,
  "vscode": {
   "interpreter": {
    "hash": "a6efb1b5c0b24a2e2c6a7775ceb8b8e57e283a2a8ce9c098a6d10d53a2042136"
   }
  }
 },
 "nbformat": 4,
 "nbformat_minor": 2
}
