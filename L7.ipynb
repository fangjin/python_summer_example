{
 "cells": [
  {
   "cell_type": "markdown",
   "metadata": {},
   "source": [
    "Review of Variables, types and assignment operator"
   ]
  },
  {
   "cell_type": "markdown",
   "metadata": {},
   "source": [
    "what does `=` mean?"
   ]
  },
  {
   "cell_type": "markdown",
   "metadata": {},
   "source": [
    "use `=` to `assign values` to a `variable`"
   ]
  },
  {
   "cell_type": "code",
   "execution_count": null,
   "metadata": {},
   "outputs": [],
   "source": [
    "variable = \"some value\"\n",
    "print(variable)\n",
    "print(\"some value\")"
   ]
  },
  {
   "cell_type": "code",
   "execution_count": null,
   "metadata": {},
   "outputs": [],
   "source": [
    "integer_variable = 2\n",
    "print(integer_variable)"
   ]
  },
  {
   "cell_type": "code",
   "execution_count": null,
   "metadata": {},
   "outputs": [],
   "source": [
    "string_variable = \"a string value\""
   ]
  },
  {
   "cell_type": "code",
   "execution_count": null,
   "metadata": {},
   "outputs": [],
   "source": [
    "boolean_variable = True"
   ]
  },
  {
   "cell_type": "markdown",
   "metadata": {},
   "source": [
    "type casting i.e. `changing variable type from one to another`"
   ]
  },
  {
   "cell_type": "code",
   "execution_count": null,
   "metadata": {},
   "outputs": [],
   "source": [
    "str(integer_variable)"
   ]
  },
  {
   "cell_type": "code",
   "execution_count": null,
   "metadata": {},
   "outputs": [],
   "source": [
    "int(\"2\")"
   ]
  },
  {
   "cell_type": "code",
   "execution_count": null,
   "metadata": {},
   "outputs": [],
   "source": [
    "list1 = [1, 23, 32, 54, 324, 13]\n",
    "\n",
    "\n",
    "if list1[0] == 1:\n",
    "  print(\"if\")\n",
    "\n",
    "#if we try to simplify this if statement then we could break it down into several steps\n",
    "\n",
    "#step 1\n",
    "if (list1[0] == 1):\n",
    "    print(\"if\")\n",
    "#step 2:\n",
    "if (1 == 1):\n",
    "    print(\"if\")\n",
    "\n",
    "#step 3:\n",
    "if (True):\n",
    "    print(\"if\")\n",
    "\n",
    "#step 4: getting rid of the parenthesis on the left\n",
    "if True:\n",
    "    print(\"if\")\n",
    "\n",
    "\n",
    "#all of these if statements above are the same!!!\n",
    "\n",
    "#and equivalently we can also replace list1 with its definition which is [1, 23, 32, 54, 324, 13]\n",
    "if [1, 23, 32, 54, 324, 13][0] == 1:\n",
    "    print(\"if\")\n",
    "\n",
    "#step 1\n",
    "if ([1, 23, 32, 54, 324, 13][0] == 1):\n",
    "    print(\"if\")\n",
    "\n",
    "#step 2\n",
    "if (1 == 1):\n",
    "    print(\"if\")\n",
    "\n",
    "#step 3:\n",
    "if (True):\n",
    "    print(\"if\")\n",
    "\n",
    "#step 4: getting rid of the parenthesis on the left\n",
    "if True:\n",
    "    print(\"if\")\n",
    "\n",
    "#all of these if statements are the same\n"
   ]
  }
 ],
 "metadata": {
  "kernelspec": {
   "display_name": "Python 3.9.12 ('base')",
   "language": "python",
   "name": "python3"
  },
  "language_info": {
   "codemirror_mode": {
    "name": "ipython",
    "version": 3
   },
   "file_extension": ".py",
   "mimetype": "text/x-python",
   "name": "python",
   "nbconvert_exporter": "python",
   "pygments_lexer": "ipython3",
   "version": "3.9.12"
  },
  "orig_nbformat": 4,
  "vscode": {
   "interpreter": {
    "hash": "f5b25e052352d0ab52b06d8a00db09f6214527cdbdbadfe2118ce5f5b02aba80"
   }
  }
 },
 "nbformat": 4,
 "nbformat_minor": 2
}
