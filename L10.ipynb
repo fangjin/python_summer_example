{
  "cells": [
    {
      "cell_type": "markdown",
      "metadata": {
        "id": "Q7D2fZcAPDLz"
      },
      "source": [
        "Nested for loop"
      ]
    },
    {
      "cell_type": "code",
      "execution_count": 3,
      "metadata": {
        "colab": {
          "base_uri": "https://localhost:8080/"
        },
        "id": "QoQ9eGECMGc_",
        "outputId": "afcd9f1e-ae52-4a51-c315-cb77551d433f"
      },
      "outputs": [
        {
          "name": "stdout",
          "output_type": "stream",
          "text": [
            "\n",
            " outer loop iteration  0 \n",
            "\n",
            "    inner loop iteration  a\n",
            "    inner loop iteration  b\n",
            "\n",
            " outer loop iteration  1 \n",
            "\n",
            "    inner loop iteration  a\n",
            "    inner loop iteration  b\n"
          ]
        }
      ],
      "source": [
        "outer_loop_list = [0, 1]\n",
        "inner_loop_list = [\"a\", \"b\"]\n",
        "\n",
        "\n",
        "for each_outer_iteration in outer_loop_list:\n",
        "    print(\"\\n outer loop iteration \", each_outer_iteration, \"\\n\")\n",
        "    \n",
        "    for each_inner_iteration in inner_loop_list:\n",
        "        print(\"    inner loop iteration \", each_inner_iteration)"
      ]
    },
    {
      "cell_type": "code",
      "execution_count": null,
      "metadata": {
        "id": "sEpURlb2PDL0"
      },
      "outputs": [],
      "source": [
        "outer_loop_list = [0, 1, 2, 3]\n",
        "inner_loop_list = [0, 1, 2, 3]\n",
        "\n",
        "\n",
        "for each_outer_iteration in outer_loop_list:\n",
        "    print(\"\\nouter loop iteration \", each_outer_iteration, \"\\n\")\n",
        "    \n",
        "    for each_inner_iteration in inner_loop_list:\n",
        "        print(\"    inner loop iteration \", each_inner_iteration)"
      ]
    },
    {
      "cell_type": "markdown",
      "metadata": {
        "id": "Z1_7Px4HPDL0"
      },
      "source": [
        "for loop with dict"
      ]
    },
    {
      "cell_type": "code",
      "execution_count": null,
      "metadata": {
        "id": "tyQMlsEgPDL1"
      },
      "outputs": [],
      "source": [
        "fruit_price = {'apple':3,'banana':1,\"grape\":5}\n",
        "\n",
        "for fruit, price in fruit_price.items():\n",
        "    print(fruit, price)"
      ]
    },
    {
      "cell_type": "code",
      "execution_count": null,
      "metadata": {
        "id": "fttSUDUrPDL1"
      },
      "outputs": [],
      "source": [
        "for fruit in fruit_price.keys():\n",
        "    print(fruit)\n",
        "    print(fruit_price[fruit])"
      ]
    },
    {
      "cell_type": "code",
      "execution_count": null,
      "metadata": {
        "id": "EDN8Q1XtPDL1"
      },
      "outputs": [],
      "source": [
        "for price in fruit_price.values():\n",
        "    print(price)"
      ]
    },
    {
      "cell_type": "markdown",
      "metadata": {
        "id": "SqwsMmWJMpvV"
      },
      "source": [
        "If we want to print out **Jan, Feb, Mar**, how to write code?"
      ]
    },
    {
      "cell_type": "code",
      "execution_count": 4,
      "metadata": {
        "id": "VV8Db_qBMde-"
      },
      "outputs": [],
      "source": [
        "months = {\"Jan\": 1, \"Feb\": 2, \"Mar\": 3}"
      ]
    },
    {
      "cell_type": "code",
      "execution_count": null,
      "metadata": {
        "id": "c5oYvb6gM4ue"
      },
      "outputs": [],
      "source": []
    },
    {
      "cell_type": "markdown",
      "metadata": {
        "id": "5kfHJd_HMyvo"
      },
      "source": [
        "If we want to print out **1,2,3**, how to write code?"
      ]
    },
    {
      "cell_type": "code",
      "execution_count": null,
      "metadata": {
        "id": "fPYwjbwdM4NZ"
      },
      "outputs": [],
      "source": []
    },
    {
      "cell_type": "markdown",
      "metadata": {
        "id": "Vnkvv5tUPDL1"
      },
      "source": [
        "search patterns"
      ]
    },
    {
      "cell_type": "code",
      "execution_count": 5,
      "metadata": {
        "id": "KEp8snyuPDL2"
      },
      "outputs": [],
      "source": [
        "student_name = 'James'\n",
        "name_score_dict = {'James' : 90, \"Jules\" : 55, \"Arthur\" : 77}"
      ]
    },
    {
      "cell_type": "code",
      "execution_count": null,
      "metadata": {
        "id": "tdC7C_CrPDL2"
      },
      "outputs": [],
      "source": [
        "if student_name in name_score_dict:\n",
        "    print(name_score_dict[student_name])\n",
        "else:\n",
        "    print(\"nope nada\")"
      ]
    },
    {
      "cell_type": "code",
      "execution_count": 6,
      "metadata": {
        "colab": {
          "base_uri": "https://localhost:8080/"
        },
        "id": "7F--pIWQNMLx",
        "outputId": "48814458-772f-4162-cc5d-c77062e2df70"
      },
      "outputs": [
        {
          "name": "stdout",
          "output_type": "stream",
          "text": [
            "90\n"
          ]
        }
      ],
      "source": [
        "for name, score in name_score_dict.items():\n",
        "    if student_name == name:\n",
        "        print(score)\n",
        "     "
      ]
    },
    {
      "cell_type": "markdown",
      "metadata": {
        "id": "j5J6UjOwPDL2"
      },
      "source": [
        "`break` and `continue` in for loop"
      ]
    },
    {
      "cell_type": "code",
      "execution_count": null,
      "metadata": {
        "id": "IzQl8iXIPDL2",
        "outputId": "3c5b99bd-8734-4128-eedf-5c1e7ca50200"
      },
      "outputs": [
        {
          "name": "stdout",
          "output_type": "stream",
          "text": [
            "apple\n",
            "1\n"
          ]
        }
      ],
      "source": [
        "for i in ['apple', 1, 2]:\n",
        "    print(i)\n",
        "    if i == 1:\n",
        "        break"
      ]
    },
    {
      "cell_type": "code",
      "execution_count": null,
      "metadata": {
        "id": "Rpb-fRq6PDL3",
        "outputId": "bc6f80b9-fa7a-431a-db5f-ed3f92134f8b"
      },
      "outputs": [
        {
          "name": "stdout",
          "output_type": "stream",
          "text": [
            "apple\n",
            "2\n"
          ]
        }
      ],
      "source": [
        "for i in ['apple', 1, 2]:\n",
        "    \n",
        "    if i == 1:\n",
        "        continue\n",
        "    print(i)"
      ]
    },
    {
      "cell_type": "code",
      "execution_count": null,
      "metadata": {
        "id": "L9QCF5fFNGjQ"
      },
      "outputs": [],
      "source": [
        "student_name = 'James'\n",
        "name_score_dict = {'James' : 90, \"Jules\" : 55, \"Arthur\" : 77}\n",
        "\n",
        "for name, score in name_score_dict.items():\n",
        "    if student_name == name:\n",
        "        print(score)\n",
        "        break"
      ]
    }
  ],
  "metadata": {
    "colab": {
      "name": "L9.ipynb",
      "provenance": []
    },
    "kernelspec": {
      "display_name": "Python 3.9.12 ('base')",
      "language": "python",
      "name": "python3"
    },
    "language_info": {
      "codemirror_mode": {
        "name": "ipython",
        "version": 3
      },
      "file_extension": ".py",
      "mimetype": "text/x-python",
      "name": "python",
      "nbconvert_exporter": "python",
      "pygments_lexer": "ipython3",
      "version": "3.9.12"
    },
    "orig_nbformat": 4,
    "vscode": {
      "interpreter": {
        "hash": "f5b25e052352d0ab52b06d8a00db09f6214527cdbdbadfe2118ce5f5b02aba80"
      }
    }
  },
  "nbformat": 4,
  "nbformat_minor": 0
}
